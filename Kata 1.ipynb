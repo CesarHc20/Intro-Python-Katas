{
 "cells": [
  {
   "cell_type": "markdown",
   "metadata": {},
   "source": [
    "# Kata 1.\n",
    "Mi primer programa"
   ]
  },
  {
   "cell_type": "code",
   "execution_count": 1,
   "metadata": {},
   "outputs": [
    {
     "name": "stdout",
     "output_type": "stream",
     "text": [
      "El día de hoy es: 2022-02-08\n"
     ]
    }
   ],
   "source": [
    "from datetime import date\n",
    "date.today()\n",
    "print ('El día de hoy es:',date.today())"
   ]
  },
  {
   "cell_type": "code",
   "execution_count": 7,
   "metadata": {},
   "outputs": [
    {
     "name": "stdout",
     "output_type": "stream",
     "text": [
      "11 parcel equivale a :35.877159999999996 Años Luz.\n"
     ]
    }
   ],
   "source": [
    "parcel= 11\n",
    "año_luz= 3.26156 * parcel\n",
    "print (str(parcel) +' parcel equivale a :'+str(año_luz)+' Años Luz.')"
   ]
  },
  {
   "cell_type": "code",
   "execution_count": 20,
   "metadata": {},
   "outputs": [
    {
     "name": "stdout",
     "output_type": "stream",
     "text": [
      "Este es un concversor de metro a km\n"
     ]
    },
    {
     "ename": "TypeError",
     "evalue": "unsupported operand type(s) for +: 'float' and 'str'",
     "output_type": "error",
     "traceback": [
      "\u001b[1;31m---------------------------------------------------------------------------\u001b[0m",
      "\u001b[1;31mTypeError\u001b[0m                                 Traceback (most recent call last)",
      "\u001b[1;32mm:\\Changuito\\Curso LaunchX\\Kata 1.ipynb Cell 4'\u001b[0m in \u001b[0;36m<module>\u001b[1;34m\u001b[0m\n\u001b[0;32m      <a href='vscode-notebook-cell:/m%3A/Changuito/Curso%20LaunchX/Kata%201.ipynb#ch0000004?line=1'>2</a>\u001b[0m metro\u001b[39m=\u001b[39m \u001b[39minput\u001b[39m(\u001b[39m'\u001b[39m\u001b[39mIndique su valor en metros\u001b[39m\u001b[39m'\u001b[39m)\n\u001b[0;32m      <a href='vscode-notebook-cell:/m%3A/Changuito/Curso%20LaunchX/Kata%201.ipynb#ch0000004?line=2'>3</a>\u001b[0m km\u001b[39m=\u001b[39m \u001b[39mfloat\u001b[39m (\u001b[39m0.001\u001b[39m) \u001b[39m*\u001b[39m \u001b[39mfloat\u001b[39m(metro)\n\u001b[1;32m----> <a href='vscode-notebook-cell:/m%3A/Changuito/Curso%20LaunchX/Kata%201.ipynb#ch0000004?line=3'>4</a>\u001b[0m \u001b[39mprint\u001b[39m (\u001b[39mfloat\u001b[39;49m(metro)\u001b[39m+\u001b[39;49m\u001b[39m'\u001b[39;49m\u001b[39m metros equivalen \u001b[39;49m\u001b[39m'\u001b[39;49m \u001b[39m+\u001b[39m \u001b[39mfloat\u001b[39m(km)\u001b[39m+\u001b[39m\u001b[39m'\u001b[39m\u001b[39m kimelometros\u001b[39m\u001b[39m'\u001b[39m)\n",
      "\u001b[1;31mTypeError\u001b[0m: unsupported operand type(s) for +: 'float' and 'str'"
     ]
    }
   ],
   "source": [
    "print('Este es un concversor de metro a km')\n",
    "metro= input('Indique su valor en metros')\n",
    "km= float (0.001) * float(metro)\n",
    "print (float(metro)+' metros equivalen ' + float(km)+' kimelometros')"
   ]
  }
 ],
 "metadata": {
  "interpreter": {
   "hash": "ee9851c62bb9e30aa70b1f3e348a48d90af506bc12b8b01fecc40c5143f1fc1f"
  },
  "kernelspec": {
   "display_name": "Python 3.10.2 64-bit",
   "language": "python",
   "name": "python3"
  },
  "language_info": {
   "codemirror_mode": {
    "name": "ipython",
    "version": 3
   },
   "file_extension": ".py",
   "mimetype": "text/x-python",
   "name": "python",
   "nbconvert_exporter": "python",
   "pygments_lexer": "ipython3",
   "version": "3.10.2"
  },
  "orig_nbformat": 4
 },
 "nbformat": 4,
 "nbformat_minor": 2
}
