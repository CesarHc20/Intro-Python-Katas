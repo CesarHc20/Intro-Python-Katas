{
 "cells": [
  {
   "cell_type": "markdown",
   "metadata": {},
   "source": [
    "## Kata 7: Ejercicio 1: Creación de un bucle \"while\""
   ]
  },
  {
   "cell_type": "code",
   "execution_count": 3,
   "metadata": {},
   "outputs": [
    {
     "name": "stdout",
     "output_type": "stream",
     "text": [
      "Sus planetas favroitos son: ['Marte', 'Jupiter', 'Uranio', 'Neptuno']\n"
     ]
    }
   ],
   "source": [
    "ingreso_planetas=''\n",
    "planetas=[]\n",
    "while ingreso_planetas.lower()!='hecho':\n",
    "    if(ingreso_planetas):\n",
    "        planetas.append(ingreso_planetas)\n",
    "    ingreso_planetas=input('Escriba sus platenas favoritos')\n",
    "print('Sus planetas favroitos son:',planetas)"
   ]
  },
  {
   "cell_type": "markdown",
   "metadata": {},
   "source": [
    "### Ejercicio 2: Creación de un ciclo \"for\"\n"
   ]
  },
  {
   "cell_type": "code",
   "execution_count": 4,
   "metadata": {},
   "outputs": [
    {
     "name": "stdout",
     "output_type": "stream",
     "text": [
      "['Jupiter', 'Uranio', 'Mercurio']\n",
      "['Jupiter', 'Uranio', 'Mercurio']\n",
      "['Jupiter', 'Uranio', 'Mercurio']\n",
      "Aqui se acaban tus planetas\n"
     ]
    }
   ],
   "source": [
    "ingreso_planetas=''\n",
    "planetas=[]\n",
    "while ingreso_planetas.lower()!='hecho':\n",
    "    if(ingreso_planetas):\n",
    "        planetas.append(ingreso_planetas)\n",
    "    ingreso_planetas=input('Escriba sus platenas favoritos')\n",
    "for number in planetas:\n",
    "    print(planetas)\n",
    "print('Aqui se acaban tus planetas')"
   ]
  },
  {
   "cell_type": "code",
   "execution_count": null,
   "metadata": {},
   "outputs": [],
   "source": []
  }
 ],
 "metadata": {
  "interpreter": {
   "hash": "ee9851c62bb9e30aa70b1f3e348a48d90af506bc12b8b01fecc40c5143f1fc1f"
  },
  "kernelspec": {
   "display_name": "Python 3.10.2 64-bit",
   "language": "python",
   "name": "python3"
  },
  "language_info": {
   "codemirror_mode": {
    "name": "ipython",
    "version": 3
   },
   "file_extension": ".py",
   "mimetype": "text/x-python",
   "name": "python",
   "nbconvert_exporter": "python",
   "pygments_lexer": "ipython3",
   "version": "3.10.2"
  },
  "orig_nbformat": 4
 },
 "nbformat": 4,
 "nbformat_minor": 2
}
