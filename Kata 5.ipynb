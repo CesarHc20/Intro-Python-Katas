{
 "cells": [
  {
   "cell_type": "markdown",
   "metadata": {},
   "source": [
    "## Kata 5. \n",
    "Ejercicio 1: Operadores matematicos"
   ]
  },
  {
   "cell_type": "code",
   "execution_count": 11,
   "metadata": {},
   "outputs": [
    {
     "name": "stdout",
     "output_type": "stream",
     "text": [
      "628949330\n",
      "390577533.93\n"
     ]
    }
   ],
   "source": [
    "tierra=149597870\n",
    "jupiter=778547200\n",
    "distancia= abs(tierra-jupiter)\n",
    "print(distancia)\n",
    "\n",
    "km_milla=0.621\n",
    "conversion= distancia * km_milla\n",
    "print(conversion)"
   ]
  },
  {
   "cell_type": "markdown",
   "metadata": {},
   "source": [
    "#### Ejercicio 2. Conversion de caddenas y numeros absolutos."
   ]
  },
  {
   "cell_type": "code",
   "execution_count": 12,
   "metadata": {},
   "outputs": [
    {
     "name": "stdout",
     "output_type": "stream",
     "text": [
      "Hola, este es un simulador para conversion de km y saber distancia de los planetas que tu gustes\n"
     ]
    }
   ],
   "source": [
    "print('Hola, este es un simulador para conversion de km y saber distancia de los planetas que tu gustes')"
   ]
  },
  {
   "cell_type": "code",
   "execution_count": 14,
   "metadata": {},
   "outputs": [
    {
     "name": "stdout",
     "output_type": "stream",
     "text": [
      "Tu primer valor a sido guardado\n",
      "Sus valores han sido guardados\n",
      "La diatncias entre los planetas es 263894\n",
      "La distancia expresada de km a millas es:  163878.174\n"
     ]
    }
   ],
   "source": [
    "planeta_1=input('ingrese el valor de su primer planeta')\n",
    "print('Tu primer valor a sido guardado')\n",
    "planeta_2=input('Ingrese el valor de su segundo planeta')\n",
    "print('Sus valores han sido guardados')\n",
    "\n",
    "planeta_1=int(planeta_1)\n",
    "planeta_2=int(planeta_2)\n",
    "\n",
    "distancia=abs(planeta_1-planeta_2)\n",
    "print('La diatncias entre los planetas es:',distancia)\n",
    "\n",
    "conversion=abs(distancia * 0.621)\n",
    "print('La distancia expresada de km a millas es: ',conversion)"
   ]
  }
 ],
 "metadata": {
  "interpreter": {
   "hash": "ee9851c62bb9e30aa70b1f3e348a48d90af506bc12b8b01fecc40c5143f1fc1f"
  },
  "kernelspec": {
   "display_name": "Python 3.10.2 64-bit",
   "language": "python",
   "name": "python3"
  },
  "language_info": {
   "codemirror_mode": {
    "name": "ipython",
    "version": 3
   },
   "file_extension": ".py",
   "mimetype": "text/x-python",
   "name": "python",
   "nbconvert_exporter": "python",
   "pygments_lexer": "ipython3",
   "version": "3.10.2"
  },
  "orig_nbformat": 4
 },
 "nbformat": 4,
 "nbformat_minor": 2
}
