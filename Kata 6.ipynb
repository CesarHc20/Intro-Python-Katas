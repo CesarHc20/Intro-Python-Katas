{
 "cells": [
  {
   "cell_type": "markdown",
   "metadata": {},
   "source": [
    "## Kata 6 Crear y usar listas de Python."
   ]
  },
  {
   "cell_type": "code",
   "execution_count": 5,
   "metadata": {},
   "outputs": [
    {
     "name": "stdout",
     "output_type": "stream",
     "text": [
      "En total son  8 planetas en el sistema solar\n"
     ]
    }
   ],
   "source": [
    "planetas=['mercurio','venus','tierra','marte','jupiter','saturno','uranio','neptuno']\n",
    "print('En total son ',len(planetas),'planetas en el sistema solar')"
   ]
  },
  {
   "cell_type": "code",
   "execution_count": 7,
   "metadata": {},
   "outputs": [
    {
     "name": "stdout",
     "output_type": "stream",
     "text": [
      "En total ahora son 10 planetas en el sistema solar.\n",
      "el ultimo planeta del sistema solar es:  pluton\n"
     ]
    }
   ],
   "source": [
    "planetas.append('pluton')\n",
    "print('En total ahora son',len(planetas),'planetas en el sistema solar.')\n",
    "print('el ultimo planeta del sistema solar es: ',planetas[-1])\n",
    "\n"
   ]
  },
  {
   "cell_type": "markdown",
   "metadata": {},
   "source": [
    "### Ejercicio 2: Trabajando con datos de una lista\n"
   ]
  },
  {
   "cell_type": "code",
   "execution_count": 16,
   "metadata": {},
   "outputs": [
    {
     "name": "stdout",
     "output_type": "stream",
     "text": [
      "Hola, este esta es una tabla de planetas\n",
      "Por favor, ingresa el nombre de un planeta del sistema solar. La primer letra debe ser en Mayuscula\n",
      "El nombre que ustes escribio es: Tierra\n"
     ]
    }
   ],
   "source": [
    "planetas=['Mercurio','Venus','Tierra','Marte','Jupiter','Saturno','Uranio','Neptuno']\n",
    "print('Hola, este esta es una tabla de planetas')\n",
    "print('Por favor, ingresa el nombre de un planeta del sistema solar. La primer letra debe ser en Mayuscula')\n",
    "desconocido=input('Ingrese el nombre de su plaeta.')\n",
    "print('El nombre que ustes escribio es:',desconocido)"
   ]
  },
  {
   "cell_type": "code",
   "execution_count": 20,
   "metadata": {},
   "outputs": [
    {
     "name": "stdout",
     "output_type": "stream",
     "text": [
      "Tierra es el platena numero  3 del sistema solar\n"
     ]
    }
   ],
   "source": [
    "desconocido_index=planetas.index(desconocido)\n",
    "print(desconocido,'es el platena numero ',desconocido_index+1,'del sistema solar')"
   ]
  },
  {
   "cell_type": "code",
   "execution_count": 19,
   "metadata": {},
   "outputs": [
    {
     "name": "stdout",
     "output_type": "stream",
     "text": [
      "Los planetas mas cercanos al sol de Tierra son:\n",
      "['Mercurio', 'Venus']\n"
     ]
    }
   ],
   "source": [
    "print('Los planetas mas cercanos al sol de',desconocido,'son:')\n",
    "print(planetas[0:desconocido_index])"
   ]
  },
  {
   "cell_type": "code",
   "execution_count": 21,
   "metadata": {},
   "outputs": [
    {
     "name": "stdout",
     "output_type": "stream",
     "text": [
      "Los planetas mas lejanos al sol de Tierra son:\n",
      "['Marte', 'Jupiter', 'Saturno', 'Uranio', 'Neptuno']\n"
     ]
    }
   ],
   "source": [
    "print('Los planetas mas lejanos al sol de', desconocido,'son:')\n",
    "print(planetas[desconocido_index+1:])"
   ]
  }
 ],
 "metadata": {
  "interpreter": {
   "hash": "ee9851c62bb9e30aa70b1f3e348a48d90af506bc12b8b01fecc40c5143f1fc1f"
  },
  "kernelspec": {
   "display_name": "Python 3.10.2 64-bit",
   "language": "python",
   "name": "python3"
  },
  "language_info": {
   "codemirror_mode": {
    "name": "ipython",
    "version": 3
   },
   "file_extension": ".py",
   "mimetype": "text/x-python",
   "name": "python",
   "nbconvert_exporter": "python",
   "pygments_lexer": "ipython3",
   "version": "3.10.2"
  },
  "orig_nbformat": 4
 },
 "nbformat": 4,
 "nbformat_minor": 2
}
