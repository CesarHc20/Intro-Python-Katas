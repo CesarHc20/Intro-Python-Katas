{
 "cells": [
  {
   "cell_type": "markdown",
   "metadata": {},
   "source": [
    "## Kata 5. Uso de if, elif, else."
   ]
  },
  {
   "cell_type": "code",
   "execution_count": 1,
   "metadata": {},
   "outputs": [
    {
     "name": "stdout",
     "output_type": "stream",
     "text": [
      "Corre por tu vida, que si no te aplasta el asteroide xD\n"
     ]
    }
   ],
   "source": [
    "a=49\n",
    "if(a>25):\n",
    "    print('Corre por tu vida, que si no te aplasta el asteroide xD')\n",
    "else:\n",
    "    print('Quedate en tu casita, hoy no mueres jajajaja xD')"
   ]
  },
  {
   "cell_type": "code",
   "execution_count": 4,
   "metadata": {},
   "outputs": [
    {
     "name": "stdout",
     "output_type": "stream",
     "text": [
      "Mira al cielo y disfruta de la luz brillante\n"
     ]
    }
   ],
   "source": [
    "a=25\n",
    "if(a>20):\n",
    "    print('Mira al cielo y disfruta de la luz brillante')\n",
    "elif(a==20):\n",
    "    print('Es una ocasion unica y mira al cilo la luz brillante')\n",
    "else:\n",
    "    print('Hoy no es un dia espectacular, sigue durmiendo')"
   ]
  },
  {
   "cell_type": "code",
   "execution_count": 10,
   "metadata": {},
   "outputs": [
    {
     "name": "stdout",
     "output_type": "stream",
     "text": [
      "Mira al cielo, que hay una luz muy bonita :3\n"
     ]
    }
   ],
   "source": [
    "dimi=25\n",
    "grandi=1000\n",
    "vel=25\n",
    "if(vel>25 and dimi>25):\n",
    "    print('Corre por tu vida que se estrellada una roca gigante')\n",
    "elif(vel>=20 or grandi>1000):\n",
    "    print('Mira al cielo, que hay una luz muy bonita :3')\n",
    "elif(dimi<25):\n",
    "    print('queda en tu casa, no hay peligro aun')\n",
    "else:\n",
    "    print('Es mas probable que nunca pase algo extraño en la tierra')\n"
   ]
  },
  {
   "cell_type": "code",
   "execution_count": null,
   "metadata": {},
   "outputs": [],
   "source": []
  }
 ],
 "metadata": {
  "interpreter": {
   "hash": "ee9851c62bb9e30aa70b1f3e348a48d90af506bc12b8b01fecc40c5143f1fc1f"
  },
  "kernelspec": {
   "display_name": "Python 3.10.2 64-bit",
   "language": "python",
   "name": "python3"
  },
  "language_info": {
   "codemirror_mode": {
    "name": "ipython",
    "version": 3
   },
   "file_extension": ".py",
   "mimetype": "text/x-python",
   "name": "python",
   "nbconvert_exporter": "python",
   "pygments_lexer": "ipython3",
   "version": "3.10.2"
  },
  "orig_nbformat": 4
 },
 "nbformat": 4,
 "nbformat_minor": 2
}
