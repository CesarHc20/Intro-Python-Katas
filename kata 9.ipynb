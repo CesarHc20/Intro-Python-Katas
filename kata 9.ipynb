{
 "cells": [
  {
   "cell_type": "markdown",
   "metadata": {},
   "source": [
    "Ejercicio 1: Trabajar con argumentos en funciones"
   ]
  },
  {
   "cell_type": "code",
   "execution_count": 5,
   "metadata": {},
   "outputs": [],
   "source": [
    "def tipos_combustible(premium,magna,diesel):\n",
    "    total_combustible=(premium+magna+diesel)/3\n",
    "    return f\"\"\" total_combustible:\n",
    "    total_combustible:{total_combustible}%\n",
    "    premium:{premium}%\n",
    "    magna:{magna}%\n",
    "    diesel:{diesel}%\n",
    "    \"\"\"\n",
    "    "
   ]
  },
  {
   "cell_type": "code",
   "execution_count": 18,
   "metadata": {},
   "outputs": [
    {
     "name": "stdout",
     "output_type": "stream",
     "text": [
      " total_combustible:\n",
      "    promedio_total:49.333333333333336%\n",
      "    premium:50%\n",
      "    magna:26%\n",
      "    diesel:72%\n",
      "    \n"
     ]
    }
   ],
   "source": [
    "   print(tipos_combustible(50,26,72))"
   ]
  },
  {
   "cell_type": "code",
   "execution_count": 13,
   "metadata": {},
   "outputs": [
    {
     "data": {
      "text/plain": [
       "49.333333333333336"
      ]
     },
     "execution_count": 13,
     "metadata": {},
     "output_type": "execute_result"
    }
   ],
   "source": [
    "def promedio(valuacion):\n",
    "    total=sum(valuacion)\n",
    "    numero_items=len(valuacion)\n",
    "    return(total/numero_items)\n",
    "\n",
    "promedio ([50,26,72])"
   ]
  },
  {
   "cell_type": "code",
   "execution_count": 16,
   "metadata": {},
   "outputs": [],
   "source": [
    "def tipos_combustible(premium,magna,diesel):\n",
    "    return f\"\"\" total_combustible:\n",
    "    promedio_total:{promedio([premium,magna,diesel])}%\n",
    "    premium:{premium}%\n",
    "    magna:{magna}%\n",
    "    diesel:{diesel}%\n",
    "    \"\"\""
   ]
  },
  {
   "cell_type": "code",
   "execution_count": 20,
   "metadata": {},
   "outputs": [
    {
     "name": "stdout",
     "output_type": "stream",
     "text": [
      " total_combustible:\n",
      "    promedio_total:47.333333333333336%\n",
      "    premium:52%\n",
      "    magna:25%\n",
      "    diesel:65%\n",
      "    \n"
     ]
    }
   ],
   "source": [
    "  print(tipos_combustible(52,25,65))\n"
   ]
  },
  {
   "cell_type": "markdown",
   "metadata": {},
   "source": [
    "### Ejercicio 2: Trabajo con argumentos de palabra clave"
   ]
  },
  {
   "cell_type": "code",
   "execution_count": 29,
   "metadata": {},
   "outputs": [
    {
     "name": "stdout",
     "output_type": "stream",
     "text": [
      "\n",
      "    mision_planeta Luna\n",
      "    tiempo_total 65 minutes\n",
      "    combustible_izq 50000 gallones\n",
      "    \n"
     ]
    }
   ],
   "source": [
    "def reporte_mision(tiempo_lanzamiento,tiempo_vuelo,destino,tanque_externo,tanque_principal):\n",
    "    return f'''\n",
    "    mision_planeta {destino}\n",
    "    tiempo_total {tiempo_lanzamiento+tiempo_vuelo} minutes\n",
    "    combustible_izq {tanque_externo+tanque_principal} gallones\n",
    "    '''\n",
    "print(reporte_mision(14,51,'Luna',20000,30000))"
   ]
  },
  {
   "cell_type": "code",
   "execution_count": 31,
   "metadata": {},
   "outputs": [
    {
     "name": "stdout",
     "output_type": "stream",
     "text": [
      "\n",
      "    Mision hacia: Luna\n",
      "    Total de tiempo de vuelo: 76 minutes\n",
      "    Total de compbustible lado Izq: 230000\n",
      "    \n"
     ]
    }
   ],
   "source": [
    "def reporte_mision(destino,*minutos,**reserva_gasolina):\n",
    "    return f'''\n",
    "    Mision hacia: {destino}\n",
    "    Total de tiempo de vuelo: {sum(minutos)} minutes\n",
    "    Total de compbustible lado Izq: {sum(reserva_gasolina.values())}\n",
    "    '''\n",
    "print(reporte_mision('Luna',10,15,51,main=30000,external=200000))\n",
    "    "
   ]
  },
  {
   "cell_type": "code",
   "execution_count": 32,
   "metadata": {},
   "outputs": [
    {
     "name": "stdout",
     "output_type": "stream",
     "text": [
      "\n",
      "    Mision hacia: Luna\n",
      "    Total de tiempo de vuelo: 74 minutes\n",
      "    Total de compbustible lado Izq: 230000\n",
      "    \n"
     ]
    }
   ],
   "source": [
    "def reporte_mision(destino,*minutos,**reserva_gasolina):\n",
    "    return f'''\n",
    "    Mision hacia: {destino}\n",
    "    Total de tiempo de vuelo: {sum(minutos)} minutes\n",
    "    Total de compbustible lado Izq: {sum(reserva_gasolina.values())}\n",
    "    '''\n",
    "    for nombre_tanque, gallons in reserva_gasolina.items():\n",
    "        reporte_mision += f'{nombre_tanque} tanque --> {galones} gallons left\\n'\n",
    "    return reporte_mision\n",
    "\n",
    "print(reporte_mision('Luna',8,11,55,main=30000,external=200000))"
   ]
  }
 ],
 "metadata": {
  "interpreter": {
   "hash": "ee9851c62bb9e30aa70b1f3e348a48d90af506bc12b8b01fecc40c5143f1fc1f"
  },
  "kernelspec": {
   "display_name": "Python 3.10.2 64-bit",
   "language": "python",
   "name": "python3"
  },
  "language_info": {
   "codemirror_mode": {
    "name": "ipython",
    "version": 3
   },
   "file_extension": ".py",
   "mimetype": "text/x-python",
   "name": "python",
   "nbconvert_exporter": "python",
   "pygments_lexer": "ipython3",
   "version": "3.10.2"
  },
  "orig_nbformat": 4
 },
 "nbformat": 4,
 "nbformat_minor": 2
}
